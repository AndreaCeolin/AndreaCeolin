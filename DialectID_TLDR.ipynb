{
  "nbformat": 4,
  "nbformat_minor": 0,
  "metadata": {
    "colab": {
      "name": "DialectID_TLDR.ipynb",
      "provenance": [],
      "collapsed_sections": []
    },
    "kernelspec": {
      "display_name": "Python 3",
      "name": "python3"
    }
  },
  "cells": [
    {
      "cell_type": "markdown",
      "metadata": {
        "id": "jFsdW2NRb_RL"
      },
      "source": [
        "#Comparing Shallow and Deep Models for Dialects Identification\n",
        "\n",
        "Identifying the language in which a document is written is a classic NLP task. While machine learning models reach near-perfect accuracy when classifying documents written in high-resource languages ([McNamee 2005](https://dl.acm.org/doi/abs/10.5555/1040196.1040208)), they struggle when discriminating among language varieties and dialects which are very similar to one another in low-resource settings, where labeled data is scarce ([Jauhiainen et al. 2019](https://www.jair.org/index.php/jair/article/view/11675)). \n",
        "\n",
        "Every year, the Workshop on NLP for Similar languages, Varieties and Dialects (VarDial) organizes several shared tasks that involve the categorization of texts belonging to similar languages.\n",
        "\n",
        "Here I compare the performance of shallow and deep models on the Romanian Dialect Identification task ([Găman et al. 2020](https://aclanthology.org/2020.vardial-1.1.pdf)). \n",
        "\n",
        "##1. Romanian Dialect Identification task\n",
        "\n",
        "<center><img src=\"http://www.serioustraveler.com/Web%20images/RomaniaMoldovaMap.jpg\" width='500' height='300' align=\"center\"/></center>\n",
        "\n",
        "\n",
        "Moldavian is a dialect of Romanian which exhibits almost no difference with standard Romanian. The distinction between standard Romanian and Moldavian is only motivated by the presence of a political boundary, which corresponds to no real isogloss. In spelling, the two languages are almost identical, with a minor exception involving the distribution of the letters 'â' and 'î', although other grammatical distinctions can be found in number, gender and case morphology, and in lexical choices. \n",
        "\n",
        "The Romanian Dialect Identification task asks participants to classify Moldavian and Romanian texts from news articles ([Zampieri et al. 2019](https://wlv.openrepository.com/bitstream/handle/2436/622384/W19-1401.pdf?sequence=2&isAllowed=n)) and tweets ([Găman et al. 2020](https://aclanthology.org/2020.vardial-1.1.pdf), [Chakravarthi et al. 2021](https://helda.helsinki.fi/bitstream/handle/10138/329644/Findings2021.vardial_1.1.pdf?sequence=1)) using the MOROCO corpus ([Butnaru and Ionescu 2019](https://arxiv.org/pdf/1901.06543.pdf)). \n",
        "\n",
        "##2. Setting up the directory and loading the Tweet corpus \n",
        "\n",
        "I assembled the whole MOROCO-Tweets ([Găman and Ionescu 2021](https://onlinelibrary.wiley.com/doi/pdf/10.1002/int.22746?casa_token=UWWlygMpOWAAAAAA:Z605HEQQIPuUIU63o66Ll0vd6JbysOIaLSlCsLB6bTCO2a0Mf-0Kb2RI4cx8fc7Ct4evQczogXxk5g)) corpus (including both the validation and test files that you find in the associated [GitHub directory](https://github.com/raduionescu/MOROCO-Tweets)) in a unique file. Before training the classifiers, I access the directory where the file is stored. "
      ]
    },
    {
      "cell_type": "code",
      "metadata": {
        "colab": {
          "base_uri": "https://localhost:8080/"
        },
        "id": "ElNfPjqpepZ9",
        "outputId": "2e95ee7c-68c5-4fd0-847a-37906c074745"
      },
      "source": [
        "# Load the Drive helper and mount\n",
        "from google.colab import drive\n",
        "\n",
        "# This will prompt for authorization.\n",
        "drive.mount('/content/drive')\n",
        "\n"
      ],
      "execution_count": 1,
      "outputs": [
        {
          "output_type": "stream",
          "name": "stdout",
          "text": [
            "Mounted at /content/drive\n"
          ]
        }
      ]
    },
    {
      "cell_type": "code",
      "metadata": {
        "colab": {
          "base_uri": "https://localhost:8080/"
        },
        "id": "MCKCET-8fdjB",
        "outputId": "9a014ca4-440c-4bfd-89c3-e9b739165184"
      },
      "source": [
        "%cd /content/drive/My Drive/Colab Notebooks/RMI-VarDial2021\n"
      ],
      "execution_count": 2,
      "outputs": [
        {
          "output_type": "stream",
          "name": "stdout",
          "text": [
            "/content/drive/My Drive/Colab Notebooks/RMI-VarDial2021\n"
          ]
        }
      ]
    },
    {
      "cell_type": "markdown",
      "metadata": {
        "id": "8HAFhRAkfmQ4"
      },
      "source": [
        "Here I load the dataset and perform preprocessing."
      ]
    },
    {
      "cell_type": "code",
      "metadata": {
        "colab": {
          "base_uri": "https://localhost:8080/"
        },
        "id": "CEIXZLAPb_RO",
        "outputId": "ecff814f-891a-4e5b-b837-8a6a429a51da"
      },
      "source": [
        "import string\n",
        "\n",
        "categories, sentences = [], []\n",
        "\n",
        "# Load the tweets development data and preprocess\n",
        "for line in open('data/moroco-tweets.txt', encoding='utf-8', errors='ignore'):\n",
        "    sentence, category = line.split('\\t')\n",
        "    category = category.strip()\n",
        "    sentence = sentence.replace('$NE$','').replace('FOTO','').replace('VIDEO','').replace('LIVE','')\n",
        "    sentence = sentence.translate(sentence.maketrans('', '', string.punctuation+'|-0123456789”„…\\n\\t'))\n",
        "    categories.append(category)\n",
        "    sentences.append(sentence.lower())\n",
        "\n",
        "label_list = list(set(categories))\n",
        "\n",
        "print(\"Number of Tweets: %s\" %len(sentences))"
      ],
      "execution_count": 3,
      "outputs": [
        {
          "output_type": "stream",
          "name": "stdout",
          "text": [
            "Number of Tweets: 5237\n"
          ]
        }
      ]
    },
    {
      "cell_type": "markdown",
      "source": [
        "The dataset contains 5237 tweets. Here is a sample of them. "
      ],
      "metadata": {
        "id": "NAsLBK_EfESg"
      }
    },
    {
      "cell_type": "code",
      "source": [
        "for label, tweet in zip(categories[:10], sentences[:10]):\n",
        "  print(label, tweet)"
      ],
      "metadata": {
        "colab": {
          "base_uri": "https://localhost:8080/"
        },
        "id": "jGW537eUfExF",
        "outputId": "928f3492-a343-491d-ff06-416c54a4751c"
      },
      "execution_count": 4,
      "outputs": [
        {
          "output_type": "stream",
          "name": "stdout",
          "text": [
            "RO premierul îi ia apărarea ministrului  nu e în conflict de interese \n",
            "RO preşedintele îccj    pensiilor  este tristă şi stupefiantă \n",
            "RO  februarie  ziua cu cele mai puţine aniversări doar  de români își serbează ziua de naștere o dată la pat\n",
            "MD o bătrână din  a căzut de la etajul trei pe acoperișul unui magazin intervenția salvatorilor  \n",
            "RO ioan  președintele alde  reacție dură după zvonurile că un membru al filialei din  pleacă din partid\n",
            "MD basarabeanul    de patru ori campion al  la acordeon fotovideo\n",
            "RO bărbat de  de ani din  de  prins de polițiștii din  conducând cu permisul de conducere suspendat\n",
            "MD proiectele de infrastructură care urmează a fi implementate în  în perioada imediat următoare discutate l\n",
            "RO pacienții din  internați la     nu au coronavirus rezultatele sunt negative\n",
            "RO rtv   oră  oficial  de pensionare scade pentru mii de români sa votat în \n"
          ]
        }
      ]
    },
    {
      "cell_type": "markdown",
      "source": [
        "\n",
        "Notice that all the function words (*din*, *în*, *de*, *la*, *-ul*/*-le* respectively 'from, in, of, at, the') are present in both languages! \n",
        "\n",
        "There are also less ambiguous cues: the word *sunt* 'are' is spelled differently in Moldavian, and so it's a cue for Romanian.\n",
        "\n",
        "##3. Preparing the dataset for evaluation\n",
        "\n",
        "The VarDial tasks proposed so far were focused on domain adaptation, and required participants to train their models on a larger corpus that included news article, using the tweets dataset only in the evaluation stage. For simplicity, here we train directly on the tweets corpus.\n",
        "\n",
        "Before training classifiers for the task, we divide the dataset in training and test sets using ```sklearn```."
      ],
      "metadata": {
        "id": "71UYBboPi7HG"
      }
    },
    {
      "cell_type": "code",
      "source": [
        "from sklearn.model_selection import train_test_split\n",
        "\n",
        "# split the tweets corpus in train/test datasets\n",
        "X_train, X_test, y_train, y_test = train_test_split(sentences, categories, shuffle=False, test_size=0.2)"
      ],
      "metadata": {
        "id": "xyXidAI1i4PP"
      },
      "execution_count": 5,
      "outputs": []
    },
    {
      "cell_type": "markdown",
      "source": [
        "##4. Shallow models: Naive Bayes classifier\n",
        "\n",
        "Among the shallow models proposed for language identification, Naive Bayes classifiers are the most popular ones, and they yielded the best performance at VarDial 2021 ([Jauhiainen et al. 2021](https://helda.helsinki.fi/bitstream/handle/10138/330672/2021.vardial_1.9.pdf?sequence=1)). \n",
        "\n",
        "Here I train a simple Naive Bayes classifier on character n-grams in the [2,5] window."
      ],
      "metadata": {
        "id": "nAfgkkCJlSsU"
      }
    },
    {
      "cell_type": "code",
      "metadata": {
        "id": "urQW4W-dy5Hz",
        "colab": {
          "base_uri": "https://localhost:8080/"
        },
        "outputId": "6e018c20-25f6-44c9-8584-976ea5ee72e5"
      },
      "source": [
        "from sklearn.feature_extraction.text import CountVectorizer\n",
        "from sklearn.metrics import f1_score\n",
        "from sklearn.naive_bayes import MultinomialNB\n",
        "\n",
        "# vectorize the training data\n",
        "vectorizer = CountVectorizer(analyzer='char_wb', ngram_range=(2,5))\n",
        "X_train_NB = vectorizer.fit_transform(X_train)\n",
        "\n",
        "print('Matrix calculated. Training data: ')\n",
        "print('Rows x: %s' %X_train_NB.shape[0])\n",
        "print('Columns x: %s' %X_train_NB.shape[1])\n",
        "print('Labels y: %s' %len(y_train))\n",
        "\n",
        "# train a Naive Bayes classifier\n",
        "model_nb = MultinomialNB()\n",
        "model_nb.fit(X_train_NB, y_train)\n",
        "\n",
        "print('Classifier trained.')\n",
        "\n",
        "# vectorize Evaluation\n",
        "X_test_NB = vectorizer.transform(X_test)\n",
        "\n",
        "print('Vectorization completed! Now predicting the labels....')\n",
        "\n",
        "# predict\n",
        "ypred = model_nb.predict(X_test_NB)\n",
        "accuracy = f1_score(y_test, ypred, average='macro')\n",
        "\n",
        "# calculate F1-score \n",
        "print('F1-score: %s' %accuracy)\n",
        "\n"
      ],
      "execution_count": 6,
      "outputs": [
        {
          "output_type": "stream",
          "name": "stdout",
          "text": [
            "Matrix calculated. Training data: \n",
            "Rows x: 4189\n",
            "Columns x: 47374\n",
            "Labels y: 4189\n",
            "Classifier trained.\n",
            "Vectorization completed! Now predicting the labels....\n",
            "F1-score: 0.8072512064099062\n"
          ]
        }
      ]
    },
    {
      "cell_type": "markdown",
      "source": [
        "The classifier reaches an F1-score of about 0.81, which is in line with the results reported by [Jauhiainen et al. (2021)](https://helda.helsinki.fi/bitstream/handle/10138/330672/2021.vardial_1.9.pdf?sequence=1)."
      ],
      "metadata": {
        "id": "s7WI64kro9GU"
      }
    },
    {
      "cell_type": "markdown",
      "source": [
        "##5. Deep models: Convolutional Neural Network\n",
        "\n",
        "The success of CNNs on image classification tasks have prompted researchers to apply them to NLP tasks ([Zhang et al. 2015](https://proceedings.neurips.cc/paper/2015/file/250cf8b51c773f3f8dc8b4be867a9a02-Paper.pdf)). Character-based CNNs have been previously employed to classify news article in Romanian and Moldavian ([Tudoreanu 2019](https://aclanthology.org/W19-1422.pdf), [Butnaru and Ionescu 2019](https://arxiv.org/pdf/1901.06543.pdf)), but have not been applied to tweets classification. Here we train a small CNN using ```tensorflow```.\n",
        "\n",
        "First, we need to transform our train and test datasets in a suitable format."
      ],
      "metadata": {
        "id": "gPTllVeOpgHq"
      }
    },
    {
      "cell_type": "code",
      "source": [
        "import tensorflow as tf\n",
        "import numpy as np\n",
        "\n",
        "# determine the number of characters to use in the vocabulary\n",
        "SIZE = 55\n",
        "\n",
        "# fit a character-tokenizer on the texts\n",
        "tokenizer = tf.keras.preprocessing.text.Tokenizer(num_words=SIZE, char_level=True, oov_token=0)\n",
        "tokenizer.fit_on_texts(X_train)\n",
        "\n",
        "# transform the training set in a sequence of numbers, add padding, and transform it into one-hot encoding representation\n",
        "X_train_tf = tokenizer.texts_to_sequences(X_train)\n",
        "X_train_tf = tf.keras.preprocessing.sequence.pad_sequences(X_train_tf, maxlen=160)\n",
        "X_train_tf = tf.keras.utils.to_categorical(X_train_tf, num_classes=SIZE, dtype='d')\n",
        "\n",
        "# repeat the process for the test set\n",
        "X_test_tf = tokenizer.texts_to_sequences(X_test)\n",
        "X_test_tf = tf.keras.preprocessing.sequence.pad_sequences(X_test_tf, maxlen=160)\n",
        "X_test_tf = tf.keras.utils.to_categorical(X_test_tf, num_classes=SIZE, dtype='d')\n",
        "\n",
        "# create a one-hot encoding vector for the labels\n",
        "y_train_tf = np.array([label_list.index(label) for label in y_train], dtype='d')\n",
        "y_test_tf = np.array([label_list.index(label) for label in y_test], dtype='d')"
      ],
      "metadata": {
        "id": "Ov0eN8xOqxUR"
      },
      "execution_count": 7,
      "outputs": []
    },
    {
      "cell_type": "markdown",
      "source": [
        "Then, we define a simple CNN with three convolutional layers, followed by max pooling, and two dense layers.\n",
        "\n",
        "1. The convolutional filters have size 3, with stride=1. The first layer has 256 filters, while the following layers have 128 filters.\n",
        "\n",
        "2. Max pooling is applied over 2-character windows. \n",
        "\n",
        "3. The first dense layer has 100 hidden units, while the output layer has 2 units like the number of categories.\n",
        "\n",
        "4. To regularize the network, neurons have a dropout rate of 0.5.\n",
        "\n",
        "<center><img src=\"https://i.postimg.cc/136c0Sb3/cnn.png\" width='200' height='350' align=\"center\"/></center>\n",
        "\n"
      ],
      "metadata": {
        "id": "NfNEqacWrMHQ"
      }
    },
    {
      "cell_type": "code",
      "source": [
        "# this is the CNN network\n",
        "model_cnn = tf.keras.Sequential()\n",
        "# it starts with three convolutional layers followed by max pooling\n",
        "model_cnn.add(tf.keras.layers.Conv1D(filters=256, kernel_size=3, strides=1, padding='same', name='conv_1', activation='relu'))\n",
        "model_cnn.add(tf.keras.layers.MaxPool1D(pool_size=2, name='pool_1'))\n",
        "model_cnn.add(tf.keras.layers.Conv1D(filters=128, kernel_size=3, strides=1, padding='same', name='conv_2', activation='relu'))\n",
        "model_cnn.add(tf.keras.layers.MaxPool1D(pool_size=2, name='pool_2'))\n",
        "model_cnn.add(tf.keras.layers.Conv1D(filters=128, kernel_size=3, strides=1, padding='same', name='conv_3', activation='relu'))\n",
        "model_cnn.add(tf.keras.layers.MaxPool1D(pool_size=2, name='pool_3'))\n",
        "#the output is flattened and sent to a fully connected layer\n",
        "model_cnn.add(tf.keras.layers.Flatten())\n",
        "model_cnn.add(tf.keras.layers.Dense(units=100, name='fc_1', activation='relu'))\n",
        "model_cnn.add(tf.keras.layers.Dropout(rate=0.5))\n",
        "model_cnn.add(tf.keras.layers.Dense(units=2, name='linear'))\n",
        "\n",
        "model_cnn.build(input_shape=(None,160,SIZE))\n",
        "\n",
        "# store the default_weights. This is useful to reset the network.\n",
        "default_states = model_cnn.get_weights()\n",
        "\n",
        "#print a summary of the model\n",
        "model_cnn.summary()"
      ],
      "metadata": {
        "colab": {
          "base_uri": "https://localhost:8080/"
        },
        "id": "RyKSwJVWrY4Q",
        "outputId": "3248f634-0ff3-4bbd-a520-b1fc2f33abc6"
      },
      "execution_count": 8,
      "outputs": [
        {
          "output_type": "stream",
          "name": "stdout",
          "text": [
            "Model: \"sequential\"\n",
            "_________________________________________________________________\n",
            " Layer (type)                Output Shape              Param #   \n",
            "=================================================================\n",
            " conv_1 (Conv1D)             (None, 160, 256)          42496     \n",
            "                                                                 \n",
            " pool_1 (MaxPooling1D)       (None, 80, 256)           0         \n",
            "                                                                 \n",
            " conv_2 (Conv1D)             (None, 80, 128)           98432     \n",
            "                                                                 \n",
            " pool_2 (MaxPooling1D)       (None, 40, 128)           0         \n",
            "                                                                 \n",
            " conv_3 (Conv1D)             (None, 40, 128)           49280     \n",
            "                                                                 \n",
            " pool_3 (MaxPooling1D)       (None, 20, 128)           0         \n",
            "                                                                 \n",
            " flatten (Flatten)           (None, 2560)              0         \n",
            "                                                                 \n",
            " fc_1 (Dense)                (None, 100)               256100    \n",
            "                                                                 \n",
            " dropout (Dropout)           (None, 100)               0         \n",
            "                                                                 \n",
            " linear (Dense)              (None, 2)                 202       \n",
            "                                                                 \n",
            "=================================================================\n",
            "Total params: 446,510\n",
            "Trainable params: 446,510\n",
            "Non-trainable params: 0\n",
            "_________________________________________________________________\n"
          ]
        }
      ]
    },
    {
      "cell_type": "markdown",
      "source": [
        "We train the network for 8 epochs, and plot the loss."
      ],
      "metadata": {
        "id": "g1Pj2EjJrxyM"
      }
    },
    {
      "cell_type": "code",
      "source": [
        "import matplotlib.pyplot as plt\n",
        "\n",
        "# set the number of epochs\n",
        "N_EPOCHS = 8\n",
        "\n",
        "# compile the model\n",
        "model_cnn.compile(optimizer=tf.keras.optimizers.Adam(learning_rate=0.001), loss=tf.keras.losses.SparseCategoricalCrossentropy(from_logits=True), metrics=['accuracy'])\n",
        "\n",
        "# save the history of the model for evaluation\n",
        "history = model_cnn.fit(X_train_tf, y_train_tf, epochs=N_EPOCHS, validation_data=(X_test_tf, y_test_tf), shuffle=True, batch_size=128)\n",
        "\n",
        "# plot training and validation loss\n",
        "epochs = range(1, N_EPOCHS+1)\n",
        "plt.plot(epochs, history.history['loss'], label='Training Loss')\n",
        "plt.plot(epochs, history.history['val_loss'], label='Validation Loss')\n",
        "plt.xlabel('Epochs')\n",
        "plt.ylabel('Loss')\n",
        "plt.legend()\n",
        "\n",
        "plt.show()"
      ],
      "metadata": {
        "colab": {
          "base_uri": "https://localhost:8080/",
          "height": 551
        },
        "id": "Bm7dLrO1rdvJ",
        "outputId": "c5bb8e9f-5902-4818-f173-adb6bb0c0e45"
      },
      "execution_count": 9,
      "outputs": [
        {
          "output_type": "stream",
          "name": "stdout",
          "text": [
            "Epoch 1/8\n",
            "33/33 [==============================] - 9s 246ms/step - loss: 0.6952 - accuracy: 0.5061 - val_loss: 0.6909 - val_accuracy: 0.5219\n",
            "Epoch 2/8\n",
            "33/33 [==============================] - 8s 237ms/step - loss: 0.6859 - accuracy: 0.5486 - val_loss: 0.6792 - val_accuracy: 0.5782\n",
            "Epoch 3/8\n",
            "33/33 [==============================] - 8s 235ms/step - loss: 0.6342 - accuracy: 0.6508 - val_loss: 0.6117 - val_accuracy: 0.6727\n",
            "Epoch 4/8\n",
            "33/33 [==============================] - 8s 248ms/step - loss: 0.5514 - accuracy: 0.7197 - val_loss: 0.6126 - val_accuracy: 0.6603\n",
            "Epoch 5/8\n",
            "33/33 [==============================] - 8s 243ms/step - loss: 0.4857 - accuracy: 0.7641 - val_loss: 0.5682 - val_accuracy: 0.7137\n",
            "Epoch 6/8\n",
            "33/33 [==============================] - 8s 237ms/step - loss: 0.4328 - accuracy: 0.8093 - val_loss: 0.5695 - val_accuracy: 0.7118\n",
            "Epoch 7/8\n",
            "33/33 [==============================] - 8s 237ms/step - loss: 0.3764 - accuracy: 0.8381 - val_loss: 0.6101 - val_accuracy: 0.7109\n",
            "Epoch 8/8\n",
            "33/33 [==============================] - 8s 235ms/step - loss: 0.2904 - accuracy: 0.8845 - val_loss: 0.5909 - val_accuracy: 0.7147\n"
          ]
        },
        {
          "output_type": "display_data",
          "data": {
            "image/png": "[encoded data removed]",
            "text/plain": [
              "<Figure size 432x288 with 1 Axes>"
            ]
          },
          "metadata": {
            "needs_background": "light"
          }
        }
      ]
    },
    {
      "cell_type": "markdown",
      "source": [
        "We see that both training and validation loss decrease until the 5th epoch, but after that validation loss does not improve."
      ],
      "metadata": {
        "id": "BQeuaP6HtB5-"
      }
    },
    {
      "cell_type": "code",
      "source": [
        "# plot training and validation accuracy\n",
        "plt.plot(epochs, history.history['accuracy'], label='Training Accuracy')\n",
        "plt.plot(epochs, history.history['val_accuracy'], label='Validation Accuracy')\n",
        "plt.xlabel('Epochs')\n",
        "plt.ylabel('Loss')\n",
        "plt.legend()\n",
        "\n",
        "plt.show()\n",
        "\n",
        "from sklearn.metrics import f1_score\n",
        "\n",
        "# calculate accuracy on the test dataset\n",
        "y_pred = [np.argmax(out) for out in model_cnn.predict(X_test_tf)]\n",
        "print(\"F1-score on the test set: %s\" %f1_score(y_test_tf, y_pred))\n"
      ],
      "metadata": {
        "colab": {
          "base_uri": "https://localhost:8080/",
          "height": 299
        },
        "id": "L0vbUHcprt37",
        "outputId": "e9d5c76b-e57d-4a9d-ae7a-9913d28542fa"
      },
      "execution_count": 10,
      "outputs": [
        {
          "output_type": "display_data",
          "data": {
            "image/png": "[encoded data removed]",
            "text/plain": [
              "<Figure size 432x288 with 1 Axes>"
            ]
          },
          "metadata": {
            "needs_background": "light"
          }
        },
        {
          "output_type": "stream",
          "name": "stdout",
          "text": [
            "F1-score on the test set: 0.7249310027598896\n"
          ]
        }
      ]
    },
    {
      "cell_type": "markdown",
      "source": [
        "We get an F1-score of 0.72 on the test dataset, which is lower than the baseline set by the Naive Bayes classifier."
      ],
      "metadata": {
        "id": "69SIxIx_1dDW"
      }
    },
    {
      "cell_type": "markdown",
      "source": [
        "##6. Data augmentation\n",
        "\n",
        "In computer vision and speech recognition, data augmentation is commonly use to train more robust models when using smaller datasets. Data augmentation is less common in NLP because it is more challenging to come out with proper data augmentation techniques. \n",
        "\n",
        "[Wei and Zou (2019)](https://arxiv.org/pdf/1901.11196.pdf?ref=https://githubhelp.com) propose several methods for performing data augmentation. Here we experiment with one of them: adding to the training data shuffled versions of the input sentences. \n",
        "\n",
        "The following lines augment the dataset with four replicas for each tweet, with its word order shuffled."
      ],
      "metadata": {
        "id": "dQXRDG6etFdp"
      }
    },
    {
      "cell_type": "code",
      "source": [
        "import random\n",
        "\n",
        "augmented_labels, augmented_sentences = [], []\n",
        "\n",
        "# this parameter defines the amount of replicas to add to the training dataset\n",
        "n = 4\n",
        "\n",
        "# This function adds n replicas of the tweets set with shuffled sentences\n",
        "for i in range(n):\n",
        "    for label, sentence in zip(y_train, X_train):\n",
        "      augmented_labels.append(label)\n",
        "      new_sentence = sentence.split()\n",
        "      random.shuffle(new_sentence)\n",
        "      augmented_sentences.append(' '.join(new_sentence))\n",
        "\n",
        "y_train_aug, X_train_aug = y_train + augmented_labels, X_train + augmented_sentences"
      ],
      "metadata": {
        "id": "tKEbQ-ejtrH0"
      },
      "execution_count": 11,
      "outputs": []
    },
    {
      "cell_type": "markdown",
      "source": [
        "Then, we transform the new dataset in tensors for training the CNN."
      ],
      "metadata": {
        "id": "ut3iWk8CwaCi"
      }
    },
    {
      "cell_type": "code",
      "source": [
        "# fit a character-tokenizer on the texts\n",
        "tokenizer = tf.keras.preprocessing.text.Tokenizer(num_words=SIZE, char_level=True, oov_token=0)\n",
        "tokenizer.fit_on_texts(X_train_aug)\n",
        "\n",
        "# transform the training set in a sequence of numbers, add padding, and transform it into one-hot encoding representation\n",
        "X_train_tf_aug = tokenizer.texts_to_sequences(X_train_aug)\n",
        "X_train_tf_aug = tf.keras.preprocessing.sequence.pad_sequences(X_train_tf_aug, maxlen=160)\n",
        "X_train_tf_aug = tf.keras.utils.to_categorical(X_train_tf_aug, num_classes=SIZE, dtype='d')\n",
        "\n",
        "# create a one-hot encoding vector for the labels\n",
        "y_train_tf_aug = np.array([label_list.index(label) for label in y_train_aug], dtype='d')"
      ],
      "metadata": {
        "id": "eY-JrK4ttxpL"
      },
      "execution_count": 12,
      "outputs": []
    },
    {
      "cell_type": "markdown",
      "source": [
        "After we reset the weights of the CNN, we can re-train the model on the augmented dataset."
      ],
      "metadata": {
        "id": "yqo9w2843fSz"
      }
    },
    {
      "cell_type": "code",
      "source": [
        "# compile the model\n",
        "model_cnn.compile(optimizer=tf.keras.optimizers.Adam(learning_rate=0.001), loss=tf.keras.losses.SparseCategoricalCrossentropy(from_logits=True), metrics=['accuracy'])\n",
        "\n",
        "# save the history of the model for evaluation\n",
        "history = model_cnn.fit(X_train_tf_aug, y_train_tf_aug, epochs=N_EPOCHS, validation_data=(X_test_tf, y_test_tf), shuffle=True, batch_size=128)\n",
        "\n",
        "# plot training and validation loss\n",
        "epochs = range(1, N_EPOCHS+1)\n",
        "plt.plot(epochs, history.history['loss'], label='Training Loss')\n",
        "plt.plot(epochs, history.history['val_loss'], label='Validation Loss')\n",
        "plt.xlabel('Epochs')\n",
        "plt.ylabel('Loss')\n",
        "plt.legend()\n",
        "\n",
        "plt.show()"
      ],
      "metadata": {
        "colab": {
          "base_uri": "https://localhost:8080/",
          "height": 551
        },
        "id": "hej7grsHt7nW",
        "outputId": "1968b988-7617-4e09-db50-47111d6a291e"
      },
      "execution_count": 13,
      "outputs": [
        {
          "output_type": "stream",
          "name": "stdout",
          "text": [
            "Epoch 1/8\n",
            "164/164 [==============================] - 37s 225ms/step - loss: 0.5692 - accuracy: 0.6976 - val_loss: 0.4897 - val_accuracy: 0.7710\n",
            "Epoch 2/8\n",
            "164/164 [==============================] - 37s 224ms/step - loss: 0.4729 - accuracy: 0.7723 - val_loss: 0.4750 - val_accuracy: 0.7805\n",
            "Epoch 3/8\n",
            "164/164 [==============================] - 37s 223ms/step - loss: 0.3911 - accuracy: 0.8267 - val_loss: 0.5777 - val_accuracy: 0.7691\n",
            "Epoch 4/8\n",
            "164/164 [==============================] - 37s 223ms/step - loss: 0.3310 - accuracy: 0.8553 - val_loss: 0.4970 - val_accuracy: 0.8082\n",
            "Epoch 5/8\n",
            "164/164 [==============================] - 37s 223ms/step - loss: 0.2587 - accuracy: 0.8961 - val_loss: 0.5031 - val_accuracy: 0.8073\n",
            "Epoch 6/8\n",
            "164/164 [==============================] - 36s 222ms/step - loss: 0.1910 - accuracy: 0.9250 - val_loss: 0.6779 - val_accuracy: 0.7805\n",
            "Epoch 7/8\n",
            "164/164 [==============================] - 36s 222ms/step - loss: 0.1605 - accuracy: 0.9366 - val_loss: 0.6998 - val_accuracy: 0.7758\n",
            "Epoch 8/8\n",
            "164/164 [==============================] - 36s 222ms/step - loss: 0.0971 - accuracy: 0.9662 - val_loss: 0.8011 - val_accuracy: 0.7977\n"
          ]
        },
        {
          "output_type": "display_data",
          "data": {
            "image/png": "[encoded data removed]",
            "text/plain": [
              "<Figure size 432x288 with 1 Axes>"
            ]
          },
          "metadata": {
            "needs_background": "light"
          }
        }
      ]
    },
    {
      "cell_type": "markdown",
      "source": [
        "Here we see validation loss being quite constant after the first epoch (≈0.5), and actually increasing after the 5th epoch, but interestingly it is slightly lower than the validation loss we had in the previous experiment (≈0.6), which predicts an improvement in accuracy."
      ],
      "metadata": {
        "id": "S5Ix-rDa9kIp"
      }
    },
    {
      "cell_type": "code",
      "source": [
        "# plot training and validation accuracy\n",
        "plt.plot(epochs, history.history['accuracy'], label='Training Accuracy')\n",
        "plt.plot(epochs, history.history['val_accuracy'], label='Validation Accuracy')\n",
        "plt.xlabel('Epochs')\n",
        "plt.ylabel('Loss')\n",
        "plt.legend()\n",
        "\n",
        "plt.show()\n",
        "\n",
        "# calculate accuracy on the test dataset\n",
        "y_pred_aug = [np.argmax(out) for out in model_cnn.predict(X_test_tf)]\n",
        "print(\"F1-score on the test set: %s\" %f1_score(y_test_tf, y_pred_aug))"
      ],
      "metadata": {
        "colab": {
          "base_uri": "https://localhost:8080/",
          "height": 296
        },
        "id": "FH09sxU-uwOX",
        "outputId": "0f1d1541-3aca-4b6b-ab4b-26847c2302e8"
      },
      "execution_count": 14,
      "outputs": [
        {
          "output_type": "display_data",
          "data": {
            "image/png": "[encoded data removed]",
            "text/plain": [
              "<Figure size 432x288 with 1 Axes>"
            ]
          },
          "metadata": {
            "needs_background": "light"
          }
        },
        {
          "output_type": "stream",
          "name": "stdout",
          "text": [
            "F1-score on the test set: 0.8117229129662523\n"
          ]
        }
      ]
    },
    {
      "cell_type": "markdown",
      "source": [
        "In fact, the augmented dataset improves performance to approximately F1=0.81, which is in line with the Naive Bayes classifier performance. \n",
        "\n",
        "How is it possible??\n",
        "\n",
        "The Naive Bayes classifier is trained on a set of 41K n-grams, while the CNN layer uses only 256 filters over character sequences of length 3 (essentially, trigrams). \n",
        "\n",
        "Re-training the Naive Bayes classifier on trigrams alone, even if we use all of them, would not match the performance of the CNN.\n"
      ],
      "metadata": {
        "id": "uUhmHDf44ISV"
      }
    },
    {
      "cell_type": "code",
      "source": [
        "#vectorize the training data\n",
        "vectorizer = CountVectorizer(analyzer='char_wb', ngram_range=(3,3))\n",
        "X_train_NB = vectorizer.fit_transform(X_train)\n",
        "\n",
        "print('Matrix calculated. Training data: ')\n",
        "print('Rows x: %s' %X_train_NB.shape[0])\n",
        "print('Columns x: %s' %X_train_NB.shape[1])\n",
        "print('Labels y: %s' %len(y_train))\n",
        "\n",
        "# Train a Naive Bayes classifier\n",
        "model_nb = MultinomialNB()\n",
        "model_nb.fit(X_train_NB, y_train)\n",
        "\n",
        "print('Classifier trained.')\n",
        "\n",
        "# Vectorize Evaluation\n",
        "X_test_NB = vectorizer.transform(X_test)\n",
        "\n",
        "print('Vectorization completed! Now predicting the labels....')\n",
        "\n",
        "# Predict\n",
        "ypred = model_nb.predict(X_test_NB)\n",
        "accuracy = f1_score(y_test, ypred, average='macro')\n",
        "\n",
        "# Calculate F-score globally\n",
        "print('F1_score: %s' %accuracy)"
      ],
      "metadata": {
        "colab": {
          "base_uri": "https://localhost:8080/"
        },
        "id": "xSLEZReXFZsc",
        "outputId": "33433b08-a6fe-4dc6-839c-95752dd1de27"
      },
      "execution_count": 15,
      "outputs": [
        {
          "output_type": "stream",
          "name": "stdout",
          "text": [
            "Matrix calculated. Training data: \n",
            "Rows x: 4189\n",
            "Columns x: 5256\n",
            "Labels y: 4189\n",
            "Classifier trained.\n",
            "Vectorization completed! Now predicting the labels....\n",
            "F1_score: 0.7662041315834762\n"
          ]
        }
      ]
    },
    {
      "cell_type": "markdown",
      "source": [
        "Following this procedure, accuracy goes down to F1=0.77, which is quite inferior to the performance of the CNN.\n",
        "\n",
        "#7. Why shuffled sentences improve the performance of the CNN?\n",
        "\n",
        "Why is shuffling sentences helpful to improve the CNN performance? \n",
        "\n",
        "The result was unexpected, but I have a guess: data augmentation has the effect of moving attention of the network off of word boundaries, because while within-word trigrams stay the same after the words are shuffled, trigrams of the type X_Y, where we have a white space in the middle, change. This might be beneficial to avoid overfitting, because we expect these sequences to not be informative when learning morphological patterns and words.\n",
        "\n",
        "#8. Conclusions\n",
        "\n",
        "CNNs have been extremely successful in computer vision tasks. Here we see that they reach state-of-the-art performance at language identification as well (even though, so far, the results are comparable to those of shallow models). "
      ],
      "metadata": {
        "id": "WROAF_7kGwrU"
      }
    },
    {
      "cell_type": "markdown",
      "source": [
        "#9. EXTRAS: Training a vanilla Feedforward Neural Network for the task\n",
        "\n",
        "To get the best of the two worlds, we can combine the two approaches by training a simple feed forward neural network: we can use character n-grams as features, and simply add nonlinearity."
      ],
      "metadata": {
        "id": "ku7FO0S3ijZS"
      }
    },
    {
      "cell_type": "code",
      "source": [
        "# we define the size of the ngram vocabulary\n",
        "SIZE = 10000\n",
        "\n",
        "# here we vectorize the training and test datasets\n",
        "vectorizer = CountVectorizer(analyzer='char_wb', ngram_range=(2,5), max_features=SIZE)\n",
        "X_train_tf = vectorizer.fit_transform(X_train).todense()\n",
        "X_test_tf = vectorizer.transform(X_test).todense()\n",
        "\n",
        "y_train_tf = np.array([label_list.index(label) for label in y_train], dtype='d')\n",
        "y_test_tf = np.array([label_list.index(label) for label in y_test], dtype='d')\n"
      ],
      "metadata": {
        "id": "ey02Q2dRQxAz"
      },
      "execution_count": 16,
      "outputs": []
    },
    {
      "cell_type": "markdown",
      "source": [
        "The vanilla network that we use has:\n",
        "\n",
        "1. A fully connected layer with 50 hidden units.\n",
        "\n",
        "2. An output layer.\n",
        "\n",
        "To regularize the network, neurons have a dropout rate of 0.5.\n",
        "\n",
        "<center><img src=\"https://i.postimg.cc/RZrwZ8q5/vanilla.png\" width='200' height='170' align=\"center\"/></center>\n"
      ],
      "metadata": {
        "id": "n89K0aIEk1GF"
      }
    },
    {
      "cell_type": "code",
      "source": [
        "# this is the vanilla network\n",
        "model_dnn = tf.keras.Sequential()\n",
        "# it has just two dense layers\n",
        "model_dnn.add(tf.keras.layers.Dense(units=50, name='fc_1', activation='relu'))\n",
        "model_dnn.add(tf.keras.layers.Dropout(rate=0.5))\n",
        "model_dnn.add(tf.keras.layers.Dense(units=2, name='linear'))\n",
        "\n",
        "model_dnn.build(input_shape=(None,SIZE))\n",
        "\n",
        "model_dnn.summary()\n",
        "\n"
      ],
      "metadata": {
        "colab": {
          "base_uri": "https://localhost:8080/"
        },
        "id": "ODfTU447RQ1x",
        "outputId": "f8eaa8d6-ce5c-4c93-e3a3-f9f1b3a8eafb"
      },
      "execution_count": 17,
      "outputs": [
        {
          "output_type": "stream",
          "name": "stdout",
          "text": [
            "Model: \"sequential_1\"\n",
            "_________________________________________________________________\n",
            " Layer (type)                Output Shape              Param #   \n",
            "=================================================================\n",
            " fc_1 (Dense)                (None, 50)                500050    \n",
            "                                                                 \n",
            " dropout_1 (Dropout)         (None, 50)                0         \n",
            "                                                                 \n",
            " linear (Dense)              (None, 2)                 102       \n",
            "                                                                 \n",
            "=================================================================\n",
            "Total params: 500,152\n",
            "Trainable params: 500,152\n",
            "Non-trainable params: 0\n",
            "_________________________________________________________________\n"
          ]
        }
      ]
    },
    {
      "cell_type": "code",
      "source": [
        "# compile the model\n",
        "model_dnn.compile(optimizer=tf.keras.optimizers.Adam(learning_rate=0.001), loss=tf.keras.losses.SparseCategoricalCrossentropy(from_logits=True), metrics=['accuracy'])\n",
        "\n",
        "# save the history of the model for evaluation\n",
        "history = model_dnn.fit(X_train_tf, y_train_tf, epochs=N_EPOCHS, validation_data=(X_test_tf, y_test_tf), shuffle=True, batch_size=128)\n",
        "\n",
        "#plot loss\n",
        "epochs = range(1, N_EPOCHS+1)\n",
        "plt.plot(epochs, history.history['loss'], label='Training Loss')\n",
        "plt.plot(epochs, history.history['val_loss'], label='Validation Loss')\n",
        "plt.xlabel('Epochs')\n",
        "plt.ylabel('Loss')\n",
        "plt.legend()\n",
        "\n",
        "plt.show()"
      ],
      "metadata": {
        "colab": {
          "base_uri": "https://localhost:8080/",
          "height": 555
        },
        "id": "2mv7Hc9tRQse",
        "outputId": "4cff441d-ee5a-46d0-f760-f63fe386ae01"
      },
      "execution_count": 18,
      "outputs": [
        {
          "output_type": "stream",
          "name": "stdout",
          "text": [
            "Epoch 1/8\n",
            "33/33 [==============================] - 1s 16ms/step - loss: 0.5779 - accuracy: 0.6930 - val_loss: 0.4907 - val_accuracy: 0.7681\n",
            "Epoch 2/8\n",
            "33/33 [==============================] - 0s 12ms/step - loss: 0.3943 - accuracy: 0.8262 - val_loss: 0.4585 - val_accuracy: 0.7586\n",
            "Epoch 3/8\n",
            "33/33 [==============================] - 0s 12ms/step - loss: 0.3070 - accuracy: 0.8771 - val_loss: 0.4178 - val_accuracy: 0.7987\n",
            "Epoch 4/8\n",
            "33/33 [==============================] - 0s 12ms/step - loss: 0.2406 - accuracy: 0.9102 - val_loss: 0.4211 - val_accuracy: 0.8053\n",
            "Epoch 5/8\n",
            "33/33 [==============================] - 0s 13ms/step - loss: 0.1965 - accuracy: 0.9260 - val_loss: 0.4243 - val_accuracy: 0.8073\n",
            "Epoch 6/8\n",
            "33/33 [==============================] - 0s 12ms/step - loss: 0.1562 - accuracy: 0.9470 - val_loss: 0.4303 - val_accuracy: 0.8139\n",
            "Epoch 7/8\n",
            "33/33 [==============================] - 0s 13ms/step - loss: 0.1228 - accuracy: 0.9659 - val_loss: 0.4587 - val_accuracy: 0.8025\n",
            "Epoch 8/8\n",
            "33/33 [==============================] - 0s 12ms/step - loss: 0.1011 - accuracy: 0.9697 - val_loss: 0.4850 - val_accuracy: 0.8034\n"
          ]
        },
        {
          "output_type": "display_data",
          "data": {
            "image/png": "[encoded data removed]",
            "text/plain": [
              "<Figure size 432x288 with 1 Axes>"
            ]
          },
          "metadata": {
            "needs_background": "light"
          }
        }
      ]
    },
    {
      "cell_type": "code",
      "source": [
        "plt.plot(epochs, history.history['accuracy'], label='Training Accuracy')\n",
        "plt.plot(epochs, history.history['val_accuracy'], label='Validation Accuracy')\n",
        "plt.xlabel('Epochs')\n",
        "plt.ylabel('Loss')\n",
        "plt.legend()\n",
        "\n",
        "plt.show()\n",
        "\n",
        "y_pred = [np.argmax(out) for out in model_dnn.predict(X_test_tf)]\n",
        "print(\"F1-score on the test set: %s\" %f1_score(y_test_tf, y_pred))"
      ],
      "metadata": {
        "colab": {
          "base_uri": "https://localhost:8080/",
          "height": 296
        },
        "id": "YnrZQFEqRQj2",
        "outputId": "e917e5ed-2e44-4f0c-92d0-b238dc08c3ea"
      },
      "execution_count": 19,
      "outputs": [
        {
          "output_type": "display_data",
          "data": {
            "image/png": "[encoded data removed]",
            "text/plain": [
              "<Figure size 432x288 with 1 Axes>"
            ]
          },
          "metadata": {
            "needs_background": "light"
          }
        },
        {
          "output_type": "stream",
          "name": "stdout",
          "text": [
            "F1-score on the test set: 0.8026819923371648\n"
          ]
        }
      ]
    },
    {
      "cell_type": "markdown",
      "source": [
        "As expected, we obtain a similar accuracy (F1-score: 0.81), but the network is much simpler!"
      ],
      "metadata": {
        "id": "L2YjpfJej4x4"
      }
    }
  ]
}